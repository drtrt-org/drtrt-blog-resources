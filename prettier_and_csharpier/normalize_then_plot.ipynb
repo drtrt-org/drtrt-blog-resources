{
  "nbformat": 4,
  "nbformat_minor": 0,
  "metadata": {
    "colab": {
      "provenance": [],
      "authorship_tag": "ABX9TyPRucNfW0/k5Pf/kavqWqEI",
      "include_colab_link": true
    },
    "kernelspec": {
      "name": "python3",
      "display_name": "Python 3"
    },
    "language_info": {
      "name": "python"
    }
  },
  "cells": [
    {
      "cell_type": "markdown",
      "metadata": {
        "id": "view-in-github",
        "colab_type": "text"
      },
      "source": [
        "<a href=\"https://colab.research.google.com/github/drtrt-org/drtrt-blog-resources/blob/main/prettier_and_csharpier/normalize_then_plot.ipynb\" target=\"_parent\"><img src=\"https://colab.research.google.com/assets/colab-badge.svg\" alt=\"Open In Colab\"/></a>"
      ]
    },
    {
      "cell_type": "markdown",
      "source": [
        "## Normalize the data, then plot\n",
        "\n",
        "This will:\n",
        "\n",
        "* Aggregate daily data into weekly totals\n",
        "* Plot the data.\n",
        "* Additionally, plot a smoothed equivalent."
      ],
      "metadata": {
        "id": "n2kd9kkPJJ45"
      }
    },
    {
      "cell_type": "code",
      "source": [
        "import numpy as np\n",
        "import pandas as pd\n",
        "import matplotlib.pyplot as plt\n",
        "from scipy.signal import savgol_filter\n",
        "\n",
        "from scipy.ndimage import gaussian_filter1d\n",
        "\n",
        "all_data = pd.read_csv(local_file_path)\n",
        "all_data['week'] = pd.to_datetime(all_data['week'])\n",
        "\n",
        "# Increase fontsize for all labels.\n",
        "plt.rcParams.update({'font.size': 16})\n",
        "plt.figure(figsize=(14, 7))\n",
        "plt.plot(weekly_data.index, weekly_data['downloads'], marker='o', linestyle='-', alpha=0.3, label=\"Original (with outliers)\")\n",
        "\n",
        "# # Apply Savitzky-Golay Filter\n",
        "savgol = savgol_filter(weekly_data['downloads'], window_length=50, polyorder=1)\n",
        "plt.plot(weekly_data.index, savgol, linewidth=3, label=\"Savitzky-Golay (degree 2)\", color='blue')\n",
        "\n",
        "# Remove the scientific notation offset... we have 'millions' in the axis label.\n",
        "plt.gca().yaxis.get_offset_text().set_visible(False)\n",
        "\n",
        "plt.xlabel(\"Date\")\n",
        "plt.ylabel(\"Weekly Downloads (millions)\")\n",
        "plt.title(f\"Weekly Downloads for '{package_name}' from {start_year} to {end_year}\")\n",
        "plt.grid(True)\n",
        "plt.tight_layout()\n",
        "plt.show()"
      ],
      "metadata": {
        "id": "PYWrT1bBJLcm"
      },
      "execution_count": null,
      "outputs": []
    }
  ]
}